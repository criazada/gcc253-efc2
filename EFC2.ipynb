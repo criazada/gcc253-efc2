{
  "cells": [
    {
      "cell_type": "markdown",
      "metadata": {
        "id": "XAdlKnDBj5uB"
      },
      "source": [
        "# EFC2 GCC253 - Complexidade e Projeto de Algoritmos\n",
        "\n",
        "\n",
        "> **Prof.: Douglas H. S. Abreu**\n",
        "\n",
        "\n",
        "**Alunos**:\n",
        "- Iago Manoel Brito de Sá Vaz da Silva - 202010135\n",
        "- Vinícius Caputo de Castro - 202011042\n",
        "\n",
        "**Turma**: 10A"
      ]
    },
    {
      "cell_type": "markdown",
      "metadata": {},
      "source": [
        "## Exercício 1\n",
        "\n",
        "a. O algoritmo encontra em um vetor a mais longa possível sequência de elementos cuja soma seja a mais alta no vetor inteiro.\n",
        "Como exemplo de aplicação no mundo real, é utilizado para encontrar a região mais clara de uma imagem.\n",
        "\n",
        "b. Uma sequência de um único elemento: o maior de todos no vetor."
      ]
    },
    {
      "cell_type": "markdown",
      "metadata": {},
      "source": [
        "## Exercício 2\n",
        "\n",
        "a.\n",
        "\n",
        "Desejamos provar que $T(n) = T(n-1) + n = O(n^2)$.\n",
        "\n",
        "$ T(n) = O(n^2) $ implica em $T(n) < kn^2$ para $n > n_0$ e qualquer $k > 0$.\n",
        "\n",
        "$ T(n) = T(n-1) + n < k(n-1)^2 + n $ (pela hipótese)\n",
        "\n",
        "$ k(n-1)^2 + n = k(n^2 - 2n + 1) + n = kn^2 - 2kn + k + n $\n",
        "\n",
        "Queremos demonstrar que $T(n) = O(n^2)$, então $ kn^2 - 2kn + k + n < kn^2 $\n",
        "\n",
        "$ kn^2 - 2kn + k + n < kn^2 \\Rightarrow k + n < 2kn \\Rightarrow n > -{1 \\over {{1 \\over k}-2}}$.\n",
        "\n",
        "Portanto, $T(n) = O(n^2)$ pois sempre existirá $n_0 > -{1 \\over {{1 \\over k}-2}}$"
      ]
    },
    {
      "cell_type": "markdown",
      "metadata": {},
      "source": [
        "## Exercício 4\n",
        "\n",
        "Teorema mestre: Seja $a \\ge 1$, $b > 1$ e $k > 0$ constantes\n",
        "para $T(n) = aT(n/b) + \\theta(n^k)$ vale que:\n",
        "\n",
        "(1) se $a > b^k$, então $T(n) = \\theta(n^{\\log_b a})$\n",
        "\n",
        "(2) se $a = b^k$, então $T(n) = \\theta(n^k \\log n)$\n",
        "\n",
        "(3) se $a < n^k$, então $T(n) = \\theta(n^k)$\n",
        "\n",
        "**a)** $T(n) = 3T({n \\over 2}) + n$\n",
        "\n",
        "$a = 3,\\ b = 2,\\ k = 1$\n",
        "\n",
        "$3 > 2^1 \\Rightarrow \\theta(n^{\\log_2 3})$\n",
        "\n",
        "**c)** $T(n) = 3T(n/2) + n^{\\log_3 2}$\n",
        "\n",
        "$n < n^{log_3 2} < n^2$\n",
        "\n",
        "$T'(n) = 3T({n \\over 2}) + n$\n",
        "\n",
        "$a = 3,\\ b = 2,\\ c = 1$\n",
        "\n",
        "$3 > 2 \\Rightarrow \\theta(n^{log_2 3})$\n",
        "\n",
        "$T''(n) = 3T(n/2) + n^2$\n",
        "\n",
        "$a = 3,\\ b = 2,\\ c = 2$\n",
        "\n",
        "$3 < 4 \\Rightarrow \\theta(n^2)$\n",
        "\n",
        "$T'(n) < T(n) < T''(n)$\n",
        "\n",
        "$T(n)$ é $\\Omega(n^{log_2 3})$ e é $O(n^2)$\n",
        "\n",
        "\n",
        "**d)** $T(n) = T({n \\over 2}) + n$\n",
        "\n",
        "$a = 1,\\ b = 2,\\ k = 1$\n",
        "\n",
        "$1 < 2^1 \\Rightarrow \\theta(n)$\n",
        "\n",
        "**f)** $T(n) = 2T({n \\over 5}) + n$\n",
        "\n",
        "$a = 2,\\ b = 5,\\ k = 1$\n",
        "\n",
        "$2 < 5^1 \\Rightarrow \\theta(n)$\n",
        "\n",
        "**g)** $T(n) = 2T(n/2) + cn$\n",
        "\n",
        "Utilizando árvore de recursão\n",
        "\n",
        "            n + cn\n",
        "        n/2        n/2\n",
        "    n/4    n/4 n/4    n/4\n",
        "\n",
        "|Nível     |Tamanho         |Nós    |Tempo por nó  |\n",
        "|----------|----------------|-------|--------------|\n",
        "| $0$      | $n$            | $1$   | $n$          |\n",
        "| $1$      | $n \\over 2$    | $2$   | $n \\over 2$  |\n",
        "| $2$      | $n \\over 4$    | $4$   | $n \\over 4$  |\n",
        "| $i$      | $n \\over 2^i$  | $2^i$ | $n \\over 2^i$|\n",
        "|$\\lg n$   | $1$            | $n$   | $1$          |"
      ]
    },
    {
      "cell_type": "markdown",
      "metadata": {},
      "source": [
        "## Exercício 5\n",
        "\n",
        "a. algoritmo guloso\n",
        "\n",
        "b. algoritmo guloso\n",
        "\n",
        "c. programação dinâmica e algoritmo guloso\n",
        "\n",
        "d. programação dinâmica\n",
        "\n",
        "e. método incremental\n",
        "\n",
        "f. divisão e conquista\n",
        "\n",
        "g. divisão e conquista\n",
        "\n",
        "h. método incremental"
      ]
    },
    {
      "cell_type": "markdown",
      "metadata": {
        "id": "J3d6JlRUxREN"
      },
      "source": [
        "## Exercício 6\n",
        "\n",
        "O $n$-ésimo número na sequência de Fibonacci é definido como $F(n) = F(n-1) + F(n-2)$, $F(0) = 0$ e $F(1) = 1$.\n",
        "\n",
        "Uma simples abordagem recursiva para encontrar o $n$-ésimo termo teria tempo de execução $T(n) = T(n-1) + T(n-2) + c_2$, sendo $T(0) = T(1) = c_1$.\n",
        "Isto é, $T(n) = O(2^n)$.\n",
        "Calculando os termos recursivamente impede que termos vistos anteriormente sejam reutilizados, causando muitas computações redundantes.\n",
        "\n",
        "A estratégia de programação dinâmica remedia o problema de várias formas. Para esta questão, escolhemos utilizar memoização, ou seja, reutilizar termos já calculados.\n",
        "Nesse caso, encontrar o $n$-ésimo termo teria tempo $T(n) = T(n-1) + c_2$, sendo $T(0) = T(1) = c_1$,\n",
        "então $T(n) = O(n)$.\n",
        "Encontrar a sequência de Fibonacci do primeiro até o $n$-ésimo termo também teria tempo de execução $T(n)$ por causa da memoização.\n"
      ]
    },
    {
      "cell_type": "markdown",
      "metadata": {},
      "source": [
        "## Exercício 7"
      ]
    },
    {
      "cell_type": "code",
      "execution_count": 2,
      "metadata": {},
      "outputs": [],
      "source": [
        "import matplotlib.pyplot as plt\n",
        "\n",
        "def fib(n):\n",
        "    if n == 0:\n",
        "        return 0\n",
        "    if n == 1:\n",
        "        return 1\n",
        "    return fib(n-1) + fib(n-2)\n",
        "\n",
        "def fibr(n):\n",
        "    if n < 1:\n",
        "        return []\n",
        "    return fibr(n-1) + [fib(n)]\n",
        "\n",
        "def fibd(n, m=None):\n",
        "    if m is None:\n",
        "        m = [0, 1]\n",
        "    if n == 0 or n == 1: return\n",
        "    fibd(n-1, m)\n",
        "    m.append(m[-1] + m[-2])\n",
        "    return m\n",
        "\n",
        "def tempo(f, *args):\n",
        "    import time\n",
        "    s = time.time()\n",
        "    f(*args)\n",
        "    e = time.time()\n",
        "    return e - s\n",
        "\n",
        "tamanhos = list(range(1, 33))\n",
        "tempo_rec = [tempo(fibr, n) for n in tamanhos]\n",
        "tempo_din = [tempo(fibd, n) for n in tamanhos]"
      ]
    },
    {
      "cell_type": "code",
      "execution_count": 3,
      "metadata": {},
      "outputs": [
        {
          "data": {
            "text/plain": [
              "<matplotlib.legend.Legend at 0x1f26330dff0>"
            ]
          },
          "execution_count": 3,
          "metadata": {},
          "output_type": "execute_result"
        },
        {
          "data": {
            "image/png": "[encoded data removed]",
            "text/plain": [
              "<Figure size 432x288 with 1 Axes>"
            ]
          },
          "metadata": {
            "needs_background": "light"
          },
          "output_type": "display_data"
        }
      ],
      "source": [
        "fig, ax = plt.subplots()\n",
        "ax.set_xlabel('Tamanho da Sequência')\n",
        "ax.set_ylabel('Tempo (s)')\n",
        "ax.plot(tamanhos, tempo_rec, label='Recursivo')\n",
        "ax.plot(tamanhos, tempo_din, label='Dinâmico')\n",
        "ax.plot(tamanhos, [2**x/4e9 for x in tamanhos], label='O(2^x)')\n",
        "ax.legend()\n"
      ]
    }
  ],
  "metadata": {
    "colab": {
      "collapsed_sections": [
        "kPNpzNYwkKAO",
        "nEw1UEsmoKMg",
        "9a-wJwU-wtmQ",
        "8dWpeYUvw-wU",
        "zNI1kX0yyDrs",
        "vk4vOTkKyLB-"
      ],
      "name": "EFC1 GCC-253.ipynb",
      "provenance": [],
      "toc_visible": true
    },
    "kernelspec": {
      "display_name": "Python 3.10.4 64-bit",
      "language": "python",
      "name": "python3"
    },
    "language_info": {
      "codemirror_mode": {
        "name": "ipython",
        "version": 3
      },
      "file_extension": ".py",
      "mimetype": "text/x-python",
      "name": "python",
      "nbconvert_exporter": "python",
      "pygments_lexer": "ipython3",
      "version": "3.10.4"
    },
    "vscode": {
      "interpreter": {
        "hash": "33b65a3c4c306fd4af8b8172d75d1c5ddf51b182a33440d931ea77ef13f0d3e4"
      }
    }
  },
  "nbformat": 4,
  "nbformat_minor": 0
}
